{
 "cells": [
  {
   "cell_type": "code",
   "execution_count": null,
   "id": "a4727839-97ba-4d57-82a8-b6a2ac0d8eb7",
   "metadata": {},
   "outputs": [],
   "source": [
    "# Stop warnings\n",
    "import warnings\n",
    "warnings.filterwarnings(\"ignore\")\n",
    "\n",
    "import os\n",
    "import time\n",
    "import numpy as np\n",
    "import pandas as pd\n",
    "import neuropythy as ny\n",
    "import matplotlib.pyplot as plt"
   ]
  },
  {
   "cell_type": "code",
   "execution_count": null,
   "id": "b589789d-9d9a-47fe-9908-463692dec62e",
   "metadata": {
    "tags": []
   },
   "outputs": [],
   "source": [
    "# Settings\n",
    "min_ecc = 0\n",
    "max_ecc = 8\n",
    "r2_th = 0.1\n",
    "max_CM = 1000\n",
    "\n",
    "rois = [\"V1v\", \"V1d\", \"V2v\", \"V2d\", \"V3v\", \"V3d\", \"hV4\", \"VO1\", \"VO2\",\n",
    "        \"PHC1\", \"PHC2\", \"TO2\", \"TO1\", \"LO2\", \"LO1\", \"V3B\", \"V3A\",\n",
    "        \"IPS0\", \"IPS1\", \"IPS2\", \"IPS3\", \"IPS4\", \"IPS5\", \"SPL1\", \"FEF\"]"
   ]
  },
  {
   "cell_type": "code",
   "execution_count": null,
   "id": "1feb69d2-51e3-4d34-b225-1d49b73b8a8d",
   "metadata": {
    "tags": []
   },
   "outputs": [],
   "source": [
    "# Get subject numbers\n",
    "allsub = ny.data['hcp_lines'].subject_list"
   ]
  },
  {
   "cell_type": "code",
   "execution_count": null,
   "id": "b2b197d3-a8c4-4acd-a4a6-21609666996c",
   "metadata": {
    "tags": []
   },
   "outputs": [],
   "source": [
    "start_time = time.time()\n",
    "\n",
    "group_df = pd.DataFrame()\n",
    "for n_sub, subject_id in enumerate(allsub):\n",
    "    # Import DF \n",
    "    tsv_dir = '/home/naxos2-raid27/wong0876/pRF_project/tsv'\n",
    "    tsv_fn = '{}/{}_new_CM_area.tsv'.format(tsv_dir, subject_id)\n",
    "    \n",
    "    prf_CM_df = pd.read_table(tsv_fn, sep=\"\\t\")\n",
    "\n",
    "    # Filter data \n",
    "    prf_CM_df_filter = prf_CM_df[(prf_CM_df['prf_r2'] >= r2_th)\n",
    "                                 & (prf_CM_df['prf_ecc'] >= min_ecc)\n",
    "                                 & (prf_CM_df['prf_ecc'] <= max_ecc)\n",
    "                                 & (prf_CM_df['pRF_CM'] <= max_CM)]\n",
    "\n",
    "    group_df = pd.concat([group_df, prf_CM_df_filter], ignore_index=True)\n",
    "\n",
    "end_time = time.time()\n",
    "print(\"Execution time: {:.2f} seconds\".format(end_time - start_time))"
   ]
  },
  {
   "cell_type": "code",
   "execution_count": null,
   "id": "756aaf88-2ae0-4dae-a5fb-23a98c5e0d54",
   "metadata": {
    "tags": []
   },
   "outputs": [],
   "source": [
    "# Export DF \n",
    "tsv_dir = '/home/naxos2-raid27/wong0876/pRF_project/tsv/group_tsv'\n",
    "os.makedirs(tsv_dir, exist_ok=True)\n",
    "\n",
    "tsv_fn = '{}/area_concat_r2_filtered.tsv'.format(tsv_dir)\n",
    "\n",
    "group_df.to_csv(tsv_fn, sep=\"\\t\", na_rep='NaN', index=False)"
   ]
  }
 ],
 "metadata": {
  "kernelspec": {
   "display_name": "Python 3.8 (local)",
   "language": "python",
   "name": "localenv"
  },
  "language_info": {
   "codemirror_mode": {
    "name": "ipython",
    "version": 3
   },
   "file_extension": ".py",
   "mimetype": "text/x-python",
   "name": "python",
   "nbconvert_exporter": "python",
   "pygments_lexer": "ipython3",
   "version": "3.6.8"
  }
 },
 "nbformat": 4,
 "nbformat_minor": 5
}
